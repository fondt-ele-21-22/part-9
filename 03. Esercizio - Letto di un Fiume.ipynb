{
 "cells": [
  {
   "cell_type": "markdown",
   "metadata": {
    "slideshow": {
     "slide_type": "subslide"
    }
   },
   "source": [
    "## Esercizio: Letto di un Fiume\n",
    "\n",
    "__Si vuole progettare lo scavo per il letto di un fiume__\n",
    "\n",
    "La sezione dello scavo deve presentarsi come segue:\n",
    "\n",
    "<center>\n",
    "<img src=\"assets/riverbed.png\" width=\"60%\"/>\n",
    "</center>\n",
    "\n",
    "* La coordinata $x$ rappresenta una posizione orizzontale\n",
    "* La coordinata $d$ rappresenta la _profondità_ dello scavo\n",
    "  - Per questa ragione la sezione si presenta \"al contrario\""
   ]
  },
  {
   "cell_type": "markdown",
   "metadata": {
    "slideshow": {
     "slide_type": "subslide"
    }
   },
   "source": [
    "## Esercizio: Letto di un Fiume\n",
    "\n",
    "__Si vuole progettare lo scavo per il letto di un fiume__\n",
    "\n",
    "* La sezione deve essere descritta da un polinomio di grado 2\n",
    "* Deve passare per i punti noti $(x_0, y_0)$ e $(x_1, y_1)$\n",
    "* Si può assumere che $x_0 = 0$\n",
    "* L'_area della sezione_ determina la portata massima...\n",
    "* ...E deve essere pari ad un valore prestabilito $s_1$\n",
    "\n",
    "Se $f(x)$ è la funzione che descrive la curva, l'area della sezione è:\n",
    "\n",
    "$$S = \\int_{x_0}^{x_1} f(x) \\, dx$$\n",
    "\n",
    "* ...Che per un polinomio può essere calcolato facilmente\n",
    "* Soprattutto visto che assumiamo $x_0 = 0$"
   ]
  },
  {
   "cell_type": "markdown",
   "metadata": {
    "slideshow": {
     "slide_type": "subslide"
    }
   },
   "source": [
    "## Esercizio: Letto di un Fiume\n",
    "\n",
    "**Nel modulo `sol.riverbed`, si definisca la funzione:**\n",
    "\n",
    "```python\n",
    "def fit_curve(x0, x1, d0, d1, s1)\n",
    "```\n",
    "\n",
    "* Che restituisca tre variabili `alpha2, alpha1, alpha0`\n",
    "* ...Corrispondenti ai coefficienti della curva\n",
    "\n",
    "**Si collaudi la classe nella cella seguente, utilizzando i valori suggeriti**"
   ]
  },
  {
   "cell_type": "code",
   "execution_count": 2,
   "metadata": {},
   "outputs": [
    {
     "name": "stdout",
     "output_type": "stream",
     "text": [
      "The autoreload extension is already loaded. To reload it, use:\n",
      "  %reload_ext autoreload\n"
     ]
    }
   ],
   "source": [
    "%load_ext autoreload\n",
    "%autoreload 2\n",
    "\n",
    "# Dati del problema\n",
    "x0, x1 = 0, 30\n",
    "d0, d1 = 0, 0\n",
    "s1 = 120"
   ]
  },
  {
   "cell_type": "markdown",
   "metadata": {
    "slideshow": {
     "slide_type": "subslide"
    }
   },
   "source": [
    "## Esercizio: Letto di un Fiume\n",
    "\n",
    "**Nel modulo `sol.riverbed`, si definisca la funzione:**\n",
    "\n",
    "```python\n",
    "def draw_curve(alpha_2, alpha_1, alpha_0, x0, x1)\n",
    "```\n",
    "\n",
    "* Che disegni la curva parabolica definita dai tre coefficienti\n",
    "\n",
    "**Nella cella seguente si scriva una soluzione completa del problema**\n",
    "\n",
    "* Si ottengano i coefficienti della curva\n",
    "* ...E si proceda a disegnarla"
   ]
  },
  {
   "cell_type": "code",
   "execution_count": 3,
   "metadata": {},
   "outputs": [
    {
     "name": "stdout",
     "output_type": "stream",
     "text": [
      "The autoreload extension is already loaded. To reload it, use:\n",
      "  %reload_ext autoreload\n"
     ]
    }
   ],
   "source": [
    "%load_ext autoreload\n",
    "%autoreload 2\n",
    "\n",
    "# Dati del problema\n",
    "x0, x1 = 0, 30\n",
    "d0, d1 = 0, 0\n",
    "s1 = 120"
   ]
  }
 ],
 "metadata": {
  "celltoolbar": "Slideshow",
  "kernelspec": {
   "display_name": "Python 3 (ipykernel)",
   "language": "python",
   "name": "python3"
  },
  "language_info": {
   "codemirror_mode": {
    "name": "ipython",
    "version": 3
   },
   "file_extension": ".py",
   "mimetype": "text/x-python",
   "name": "python",
   "nbconvert_exporter": "python",
   "pygments_lexer": "ipython3",
   "version": "3.9.5"
  },
  "rise": {
   "center": false,
   "enable_chalkboard": true,
   "transition": "fade"
  }
 },
 "nbformat": 4,
 "nbformat_minor": 4
}
