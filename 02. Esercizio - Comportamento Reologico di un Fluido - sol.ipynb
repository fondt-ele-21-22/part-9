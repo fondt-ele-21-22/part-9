{
 "cells": [
  {
   "cell_type": "code",
   "execution_count": 22,
   "metadata": {},
   "outputs": [
    {
     "name": "stdout",
     "output_type": "stream",
     "text": [
      "The autoreload extension is already loaded. To reload it, use:\n",
      "  %reload_ext autoreload\n"
     ]
    }
   ],
   "source": [
    "%load_ext autoreload\n",
    "%autoreload 2"
   ]
  },
  {
   "cell_type": "markdown",
   "metadata": {
    "slideshow": {
     "slide_type": "subslide"
    }
   },
   "source": [
    "## Esercizio: Comportamento Reologico di un Fluido\n",
    "\n",
    "__Si possono dividere i fluidi in diverse categorie...__\n",
    "\n",
    "* ...In base alla relazione tra la velocità di deformazione $\\dot{\\gamma}$...\n",
    "* ...E lo sforzo tangenziale $\\tau$\n",
    "\n",
    "<center>\n",
    "<img src=\"assets/fluid_types.png\" width=\"40%\"/>\n",
    "</center>"
   ]
  },
  {
   "cell_type": "markdown",
   "metadata": {
    "slideshow": {
     "slide_type": "subslide"
    }
   },
   "source": [
    "## Esercizio: Comportamento Reologico di un Fluido\n",
    "\n",
    "__In particolare, distinguiamo:__\n",
    "\n",
    "Fluidi _Newtoniani_, per cui:\n",
    "\n",
    "$$\n",
    "\\tau = a \\dot{\\gamma}\n",
    "$$\n",
    "\n",
    "Fluidi di _Bingham_, per cui:\n",
    "\n",
    "$$\n",
    "\\tau = a \\dot{\\gamma} + b\n",
    "$$\n",
    "\n",
    "Fluidi _pseudoplastici_ e _dilatanti_, per cui:\n",
    "\n",
    "$$\n",
    "\\tau = b \\dot{\\gamma}^a\n",
    "$$\n",
    "\n",
    "* Se $a > 1$ il fluido è dilatante\n",
    "* Se $a < 1$ il fluido è pseudoplastico\n"
   ]
  },
  {
   "cell_type": "markdown",
   "metadata": {
    "slideshow": {
     "slide_type": "subslide"
    }
   },
   "source": [
    "## Esercizio: Comp. Reologico di un Fluido  \n",
    "\n",
    "__Per determinare il tipo di un fluido possiamo:__ \n",
    "\n",
    "* Otterremo delle funzioni approssimanti $f$ (via minimi quadrati)\n",
    "* Verificheremo il valore del SSE\n",
    "* L'approssimazione con il minor SSE sarà tendenzialmente corretta\n",
    "\n",
    "__Per due fluidi, sono stati misurati i valori di $\\dot{\\gamma}$ e $\\tau$__\n",
    "\n",
    "* I dati sono nei file `fluid1.csv` e `fluid2.csv` nella directory `data`\n",
    "* Per leggerli potete usare `example.analyze.read_csv`\n",
    "\n",
    "**Nella cella seguente, si proceda a leggere i due file**\n",
    "\n",
    "* Si stampino intestazioni e dati per i due file"
   ]
  },
  {
   "cell_type": "code",
   "execution_count": 23,
   "metadata": {},
   "outputs": [
    {
     "name": "stdout",
     "output_type": "stream",
     "text": [
      "['DGAMMA', 'TAU']\n",
      "[[0.05    0.52   ]\n",
      " [0.26667 0.53669]\n",
      " [0.48333 0.59077]\n",
      " [0.7     0.63722]\n",
      " [0.91667 0.68756]\n",
      " [1.1333  0.70996]\n",
      " [1.35    0.77472]\n",
      " [1.5667  0.8012 ]\n",
      " [1.7833  0.85733]\n",
      " [2.      0.90652]]\n",
      "['DGAMMA', 'TAU']\n",
      "[[0.05     0.074605]\n",
      " [0.26667  0.22259 ]\n",
      " [0.48333  0.32176 ]\n",
      " [0.7      0.39003 ]\n",
      " [0.91667  0.47508 ]\n",
      " [1.1333   0.53293 ]\n",
      " [1.35     0.59448 ]\n",
      " [1.5667   0.67868 ]\n",
      " [1.7833   0.72823 ]\n",
      " [2.       0.78403 ]]\n"
     ]
    }
   ],
   "source": [
    "from example import analyze\n",
    "import numpy as np\n",
    "import os\n",
    "\n",
    "fname1 = os.path.join('data', 'fluid1.csv')\n",
    "data1, header1 = analyze.read_csv(fname1)\n",
    "print(header1)\n",
    "print(data1)\n",
    "\n",
    "fname2 = os.path.join('data', 'fluid2.csv')\n",
    "data2, header2 = analyze.read_csv(fname2)\n",
    "print(header2)\n",
    "print(data2)"
   ]
  },
  {
   "cell_type": "markdown",
   "metadata": {},
   "source": [
    "## Esercizio: Comp. Reologico di un Fluido\n",
    "\n",
    "**Si disegnino i due dataset su due grafici di dispersione**\n",
    "\n",
    "Allo scopo, si utilizza la funzione `example.analyze.scatter`"
   ]
  },
  {
   "cell_type": "code",
   "execution_count": 24,
   "metadata": {},
   "outputs": [
    {
     "data": {
      "image/png": "[encoded data removed]",
      "text/plain": [
       "<Figure size 1440x360 with 1 Axes>"
      ]
     },
     "metadata": {
      "needs_background": "light"
     },
     "output_type": "display_data"
    },
    {
     "data": {
      "image/png": "[encoded data removed]",
      "text/plain": [
       "<Figure size 1440x360 with 1 Axes>"
      ]
     },
     "metadata": {
      "needs_background": "light"
     },
     "output_type": "display_data"
    }
   ],
   "source": [
    "DGAMMA1, TAU1 = data1[:, 0], data1[:, 1]\n",
    "analyze.scatter(DGAMMA1, TAU1, xlabel='DGAMMA', ylabel='TAU', figsize=(20, 5))\n",
    "\n",
    "DGAMMA2, TAU2 = data2[:, 0], data2[:, 1]\n",
    "analyze.scatter(DGAMMA2, TAU2, xlabel='DGAMMA', ylabel='TAU', figsize=(20, 5))"
   ]
  },
  {
   "cell_type": "markdown",
   "metadata": {
    "slideshow": {
     "slide_type": "subslide"
    }
   },
   "source": [
    "## Esercizio: Comp. Reologico di un Fluido\n",
    "\n",
    "__Prima parte: verifica se il fluido sia di Bingham__\n",
    "\n",
    "Nel modulo `sol.fluids`, definite la funzione:\n",
    "\n",
    "```\n",
    "def fit_bingham(DGAMMA, TAU):\n",
    "```\n",
    "\n",
    "Che prenda come parametri:\n",
    "\n",
    "* Un vettore riga `DGAMMA` con i valori noti di $\\dot{\\gamma}$\n",
    "* Un vettore riga `TAU` con i valori noti di $\\tau$\n",
    "\n",
    "La funzione deve assumere che il fluido sia di Bingham e restituire:\n",
    "\n",
    "* I coefficienti della relazione $\\tau = a \\dot{\\gamma} + b$\n",
    "* Il valore dell'SSE\n",
    "\n",
    "Si stampino coefficienti ed SSE per i due fluidi"
   ]
  },
  {
   "cell_type": "code",
   "execution_count": 25,
   "metadata": {},
   "outputs": [
    {
     "name": "stdout",
     "output_type": "stream",
     "text": [
      "Fluido 1, HP: Bingham\n",
      "a: 0.20168482771491061, b: 0.4954706566466999, sse: 0.0008393521047255005\n",
      "Fluido 2, HP: Bingham\n",
      "a: 0.34629780438721086, b: 0.1252872893965221, sse: 0.008750796779161185\n"
     ]
    }
   ],
   "source": [
    "from sol import fluids\n",
    "\n",
    "b_a1, b_b1, b_sse1 = fluids.fit_bingham(DGAMMA1, TAU1)\n",
    "print('Fluido 1, HP: Bingham')\n",
    "print(f'a: {b_a1}, b: {b_b1}, sse: {b_sse1}')\n",
    "\n",
    "b_a2, b_b2, b_sse2 = fluids.fit_bingham(DGAMMA2, TAU2)\n",
    "print('Fluido 2, HP: Bingham')\n",
    "print(f'a: {b_a2}, b: {b_b2}, sse: {b_sse2}')"
   ]
  },
  {
   "cell_type": "markdown",
   "metadata": {
    "slideshow": {
     "slide_type": "subslide"
    }
   },
   "source": [
    "## Esercizio: Comp. Reologico di un Fluido\n",
    "\n",
    "__Prima parte: verifica se il fluido sia Newtoniano__\n",
    "\n",
    "Nel modulo `sol.fluids`, definite la funzione:\n",
    "\n",
    "```\n",
    "def fit_newton(DGAMMA, TAU):\n",
    "```\n",
    "\n",
    "Che prenda come parametri:\n",
    "\n",
    "* Un vettore riga `DGAMMA` con i valori noti di $\\dot{\\gamma}$\n",
    "* Un vettore riga `TAU` con i valori noti di $\\tau$\n",
    "\n",
    "La funzione deve assumere che il fluido sia Newtoniano e restituire:\n",
    "\n",
    "* I coefficienti della relazione $\\tau = a \\dot{\\gamma}$\n",
    "* Il valore dell'SSE\n",
    "\n",
    "Si stampino coefficienti ed SSE per i due fluidi"
   ]
  },
  {
   "cell_type": "code",
   "execution_count": 26,
   "metadata": {},
   "outputs": [
    {
     "name": "stdout",
     "output_type": "stream",
     "text": [
      "Fluido 1, HP: Newton\n",
      "a: [0.55487564], sse: 0.662050578100021\n",
      "Fluido 2, HP: Newton\n",
      "a: [0.43560747], sse: 0.051029179563115666\n"
     ]
    }
   ],
   "source": [
    "from sol import fluids\n",
    "\n",
    "n_a1, n_sse1 = fluids.fit_newton(DGAMMA1, TAU1)\n",
    "print('Fluido 1, HP: Newton')\n",
    "print(f'a: {n_a1}, sse: {n_sse1}')\n",
    "\n",
    "n_a2, n_sse2 = fluids.fit_newton(DGAMMA2, TAU2)\n",
    "print('Fluido 2, HP: Newton')\n",
    "print(f'a: {n_a2}, sse: {n_sse2}')"
   ]
  },
  {
   "cell_type": "markdown",
   "metadata": {
    "slideshow": {
     "slide_type": "subslide"
    }
   },
   "source": [
    "## Esercizio: Comp. Reologico di un Fluido\n",
    "\n",
    "__Seconda parte: verifica se il fluido sia pseudoplastico o dilatante__\n",
    "\n",
    "Nel modulo `sol.fluids`, definite la funzione:\n",
    "\n",
    "```\n",
    "def fit_powerlaw(DGAMMA, TAU):\n",
    "```\n",
    "\n",
    "Che prenda come parametri:\n",
    "\n",
    "* Un vettore riga `DGAMMA` con i valori noti di $\\dot{\\gamma}$\n",
    "* Un vettore riga `TAU` con i valori noti di $\\tau$\n",
    "\n",
    "La funzione deve assumere che il fluido sia Newtoniano e restituire:\n",
    "\n",
    "* I parametri della relazione $\\tau = b \\dot{\\gamma}^a$\n",
    "* Il valore dell'SSE\n",
    "\n",
    "Si stampino coefficienti ed SSE per i due fluidi"
   ]
  },
  {
   "cell_type": "markdown",
   "metadata": {
    "slideshow": {
     "slide_type": "subslide"
    }
   },
   "source": [
    "## Esercizio: Comp. Reologico di un Fluido\n",
    "\n",
    "__Seconda parte: verifica se il fluido sia Newtoniano__\n",
    "\n",
    "La legge $\\tau = b \\dot{\\gamma}^a$ è _non lineare in $a$ e $b$:\n",
    "\n",
    "* Se ci concentriamo sul logaritmo di $\\tau$, però, otteniamo:\n",
    "\n",
    "$$\n",
    "\\log \\tau = \\log b + a \\log \\dot{\\gamma}\n",
    "$$\n",
    "\n",
    "* Che è lineare con \"colonne\" $1$ e $\\log \\dot{\\gamma}$\n",
    "* Se $x_1$ e $x_0$ sono i parametri determinati con i minimi quadrati...\n",
    "* ...Avremo che $x_1 = \\log b$ ed $x_2 = a$\n",
    "\n",
    "Si sfrutti questa osservazione nel codice della funzione"
   ]
  },
  {
   "cell_type": "code",
   "execution_count": 27,
   "metadata": {},
   "outputs": [
    {
     "name": "stdout",
     "output_type": "stream",
     "text": [
      "Fluido 1, HP: legge di potenza\n",
      "a: 0.15320691075678872, b: 0.7270734219188487, sse: 0.0644204351862603\n",
      "Fluido 2, HP: legge di potenza\n",
      "a: 0.6332043677139194, b: 0.5016366108709662, sse: 0.0027867414158660063\n"
     ]
    }
   ],
   "source": [
    "from sol import fluids\n",
    "\n",
    "p_a1, p_b1, p_sse1 = fluids.fit_powerlaw(DGAMMA1, TAU1)\n",
    "print('Fluido 1, HP: legge di potenza')\n",
    "print(f'a: {p_a1}, b: {p_b1}, sse: {p_sse1}')\n",
    "\n",
    "p_a2, p_b2, p_sse2 = fluids.fit_powerlaw(DGAMMA2, TAU2)\n",
    "print('Fluido 2, HP: legge di potenza')\n",
    "print(f'a: {p_a2}, b: {p_b2}, sse: {p_sse2}')"
   ]
  }
 ],
 "metadata": {
  "celltoolbar": "Slideshow",
  "kernelspec": {
   "display_name": "Python 3 (ipykernel)",
   "language": "python",
   "name": "python3"
  },
  "language_info": {
   "codemirror_mode": {
    "name": "ipython",
    "version": 3
   },
   "file_extension": ".py",
   "mimetype": "text/x-python",
   "name": "python",
   "nbconvert_exporter": "python",
   "pygments_lexer": "ipython3",
   "version": "3.9.5"
  },
  "rise": {
   "center": false,
   "enable_chalkboard": true,
   "transition": "fade"
  }
 },
 "nbformat": 4,
 "nbformat_minor": 4
}
